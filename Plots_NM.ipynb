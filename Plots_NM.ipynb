{
 "cells": [
  {
   "cell_type": "code",
   "execution_count": null,
   "id": "33475c43-604f-49d2-a0e9-2169ced467c3",
   "metadata": {},
   "outputs": [],
   "source": [
    "import matplotlib.pyplot as plt\n",
    "import numpy as np\n",
    "import pandas as pd\n",
    "prop_cycle = plt.rcParams['axes.prop_cycle']\n",
    "colors = prop_cycle.by_key()['color']"
   ]
  },
  {
   "cell_type": "code",
   "execution_count": null,
   "id": "5d672944-553c-4178-9e7b-fedf2ff16ebd",
   "metadata": {},
   "outputs": [],
   "source": [
    "measure=np.load('data/II_optimaltuning_2qubit_gp_measure.npy',allow_pickle=True)\n",
    "g=np.round(np.concatenate(([0.1],np.linspace(0.2,0.8,4),[2,4,10])),3)\n",
    "p=np.round(np.concatenate((np.linspace(0.0, 0.9,10),np.linspace(0.902, 0.99, 45),np.linspace(0.991, 0.995, 5))),3)\n",
    "measure=np.reshape(np.array(measure,dtype=float),(len(g),len(p)))"
   ]
  },
  {
   "cell_type": "code",
   "execution_count": null,
   "id": "51b5c9d4-c413-4b0c-9cad-5b662c66d269",
   "metadata": {},
   "outputs": [],
   "source": [
    "fig=plt.figure(figsize=(5,3.5),dpi=400)\n",
    "ax=fig.add_subplot(1,1,1)\n",
    "for i in range(len(g)-1):\n",
    "    plt.plot(p[:],((measure[i,:])),label=f'$g/\\kappa$= {g[i]}')\n",
    "\n",
    "plt.legend(bbox_to_anchor=(1.0,1.03),loc='upper left')\n",
    "plt.title('$\\mathcal{N}_b^{(BC)}$')\n",
    "plt.xlabel('p')\n",
    "plt.yscale('log')\n",
    "plt.xlim(0.89,1)\n",
    "plt.ylim(10E-17,10E+1)\n",
    "ax.yaxis.label.set_fontsize(12)\n",
    "ax.xaxis.label.set_fontsize(12)\n",
    "plt.tight_layout()\n",
    "plt.savefig('measure2.pdf')\n",
    "plt.show()\n"
   ]
  },
  {
   "cell_type": "code",
   "execution_count": null,
   "id": "496890d3-9af0-4504-a0e8-ffc2a6d74dd5",
   "metadata": {},
   "outputs": [],
   "source": [
    "measure=np.load('data/optimaltuningIII_battery_gp_measure.npy',allow_pickle=True)\n",
    "g=np.round([0.2,0.4,0.6,0.8,2,4,10],3)\n",
    "F=np.round(1.09*g,4)\n",
    "p=np.concatenate((np.linspace(0.0, 0.9,31),np.linspace(0.91, 0.96, 6),np.linspace(0.962, 0.99,15)))\n",
    "measure=np.reshape(np.array(measure,dtype=float),(len(g),len(p)))"
   ]
  },
  {
   "cell_type": "code",
   "execution_count": null,
   "id": "d8b611cf-54c0-497b-8559-e8eb09cda9d9",
   "metadata": {},
   "outputs": [],
   "source": [
    "fig=plt.figure(figsize=(5,3.5),dpi=400)\n",
    "ax=fig.add_subplot(1,1,1)\n",
    "for i in range(6):\n",
    "    plt.plot(p[0:],((measure[i,0:])),colors[i+1],label=f'$g/\\kappa$= {g[i]}')\n",
    "plt.legend(bbox_to_anchor=(1.0,1.03),loc='upper left')\n",
    "plt.title('$\\mathcal{N}_b^{(B)}$')\n",
    "plt.xlabel('p')\n",
    "plt.yscale('log')\n",
    "plt.ylim(10E-13,10E1)\n",
    "ax.yaxis.label.set_fontsize(12)\n",
    "ax.xaxis.label.set_fontsize(12)\n",
    "plt.tight_layout()\n",
    "plt.savefig('measurebattery.pdf')"
   ]
  },
  {
   "cell_type": "code",
   "execution_count": null,
   "id": "1453ae3e-e7bb-4170-92b6-27e9a966365c",
   "metadata": {},
   "outputs": [],
   "source": [
    "df=pd.read_csv('data/data.csv',names=['g','F'])\n",
    "g=np.round(df['g'].to_list(),3)\n",
    "F=np.round(df['F'].to_list(),6)"
   ]
  },
  {
   "cell_type": "code",
   "execution_count": null,
   "id": "738a94df-3c1e-4287-b817-2d8580979669",
   "metadata": {},
   "outputs": [],
   "source": [
    "measure=np.load('data/markovian_battery_measure.npy',allow_pickle=True)\n",
    "m=[x for x in measure]"
   ]
  },
  {
   "cell_type": "code",
   "execution_count": null,
   "id": "f6f6cfb5-eb24-40f1-9c25-2db4409b6898",
   "metadata": {},
   "outputs": [],
   "source": [
    "fig=plt.figure(figsize=(5,4),dpi=400)\n",
    "ax=fig.add_subplot(1,1,1)\n",
    "plt.plot((g),(m))\n",
    "plt.ylabel('$\\mathcal{N}_b^{(B)}$')\n",
    "plt.xlabel('$g/\\kappa$')\n",
    "ax.yaxis.label.set_fontsize(12)\n",
    "ax.xaxis.label.set_fontsize(12)\n",
    "plt.tight_layout()\n",
    "plt.yscale('log')\n",
    "plt.ylim(10E-17,10E0)\n",
    "plt.savefig('Markovian_nmMeasure.pdf')"
   ]
  },
  {
   "cell_type": "code",
   "execution_count": null,
   "id": "9f9f2841-4260-47f3-9ac7-fce4f5c2c739",
   "metadata": {},
   "outputs": [],
   "source": []
  }
 ],
 "metadata": {
  "kernelspec": {
   "display_name": "Python 3 (ipykernel)",
   "language": "python",
   "name": "python3"
  },
  "language_info": {
   "codemirror_mode": {
    "name": "ipython",
    "version": 3
   },
   "file_extension": ".py",
   "mimetype": "text/x-python",
   "name": "python",
   "nbconvert_exporter": "python",
   "pygments_lexer": "ipython3",
   "version": "3.9.9"
  }
 },
 "nbformat": 4,
 "nbformat_minor": 5
}
